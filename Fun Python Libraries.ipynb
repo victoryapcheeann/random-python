{
 "cells": [
  {
   "cell_type": "markdown",
   "id": "6250bf78",
   "metadata": {},
   "source": [
    "# 1) Instagram Downloaded"
   ]
  },
  {
   "cell_type": "code",
   "execution_count": 2,
   "id": "0073d077",
   "metadata": {},
   "outputs": [],
   "source": [
    "import instaloader"
   ]
  },
  {
   "cell_type": "markdown",
   "id": "b5b538f3",
   "metadata": {},
   "source": [
    "https://github.com/instaloader/instaloader/issues/513"
   ]
  },
  {
   "cell_type": "code",
   "execution_count": 3,
   "id": "96f4cf3e",
   "metadata": {},
   "outputs": [
    {
     "name": "stdout",
     "output_type": "stream",
     "text": [
      "#streetarts\\2021-07-26_04-42-58_UTC_1.jpg #streetarts\\2021-07-26_04-42-58_UTC_2.jpg #streetarts\\2021-07-26_04-42-58_UTC_3.jpg #streetarts\\2021-07-26_04-42-58_UTC_4.jpg #streetarts\\2021-07-26_04-42-58_UTC_5.jpg #streetarts\\2021-07-26_04-42-58_UTC_6.jpg #streetarts\\2021-07-26_04-42-58_UTC_7.jpg #streetarts\\2021-07-26_04-42-58_UTC_8.jpg [KAWS TOKYO FIRST   #kawstokyo…] json \n",
      "#streetarts\\2021-07-26_03-55-16_UTC.jpg [FEATURED on #penangtoday • 📷:…] json \n",
      "#streetarts\\2021-07-26_03-46-37_UTC.jpg [Reposted from @ominomeschino …] json \n",
      "#streetarts\\2021-07-26_03-17-58_UTC.jpg [🤙 @bel3.n1 🤙 #girlswhogetup #…] json \n",
      "#streetarts\\2021-07-26_03-13-54_UTC.jpg [🤙 @arte_de_laura 🤙 #girlswhog…] json \n",
      "#streetarts\\2021-07-26_03-12-30_UTC.jpg [C U A D R O S •  Z E K O • A …] json \n",
      "#streetarts\\2021-07-26_03-09-08_UTC.jpg [🤙 @chiken.ent 🤙 #girlswhogetu…] json \n",
      "#streetarts\\2021-07-26_03-06-41_UTC_1.jpg #streetarts\\2021-07-26_03-06-41_UTC_2.jpg #streetarts\\2021-07-26_03-06-41_UTC_3.jpg [Our national accounting must …] json \n",
      "#streetarts\\2021-07-26_03-04-14_UTC.jpg [🤙 @beckydynamite 🤙 #girlswhog…] json \n",
      "#streetarts\\2021-07-26_02-54-54_UTC.jpg [🤙 @sanguineskills 🤙 #girlswho…] json \n",
      "[💣💣💣💥💥💥🧨🧨🧨 New Artwork by @mar…] json \n",
      "#streetarts\\2021-07-26_02-11-16_UTC_1.jpg #streetarts\\2021-07-26_02-11-16_UTC_2.jpg #streetarts\\2021-07-26_02-11-16_UTC_3.jpg [💣💣💣💥💥💥🧨🧨🧨 New Artwork by @mar…] json \n",
      "#streetarts\\2021-07-26_02-05-10_UTC_1.jpg #streetarts\\2021-07-26_02-05-10_UTC_2.jpg #streetarts\\2021-07-26_02-05-10_UTC_3.jpg #streetarts\\2021-07-26_02-05-10_UTC_4.jpg [Thank you @fnnch for such a f…] json \n",
      "#streetarts\\2021-07-26_01-41-19_UTC.jpg [laper gak ? #CC_313 #taggersb…] json \n",
      "#streetarts\\2021-07-26_00-31-16_UTC.jpg [予獨愛蓮之出淤泥而不染，濯清漣而不妖。 Aways dis…] json \n",
      "#streetarts\\2021-07-25_23-13-51_UTC.jpg [By @raphael_dairon #muralesmo…] json \n",
      "#streetarts\\2021-07-25_22-24-58_UTC.jpg [Public Service Announcment #2…] json \n",
      "#streetarts\\2021-07-25_22-16-59_UTC.jpg [Focus on human.  #nightphotog…] json \n",
      "#streetarts\\2021-07-25_22-08-44_UTC.jpg [Before the summer rainstorm. …] json \n",
      "#streetarts\\2021-07-25_22-06-45_UTC.jpg [Street art in Warsaw  #street…] json \n",
      "loop ended for streetarts\n"
     ]
    }
   ],
   "source": [
    "# download pictures, download json file, but don't compress json file.\n",
    "L = instaloader.Instaloader(download_pictures=True,\n",
    "                            download_video_thumbnails=False,\n",
    "                            download_videos=False,\n",
    "                            download_geotags=True,\n",
    "                            download_comments=False,\n",
    "                            save_metadata=True,\n",
    "                            compress_json=False\n",
    "                            )\n",
    "\n",
    "# two arguments: keyword and number of files\n",
    "def get_it(keyword,numbers_of_files):\n",
    "    while numbers_of_files > 0:\n",
    "        for post in L.get_hashtag_posts(keyword):\n",
    "            # post is an instance of instaloader.Post\n",
    "            L.download_post(post, target='#'+keyword)\n",
    "            numbers_of_files-=1\n",
    "            # print(numbers_of_files)\n",
    "            if numbers_of_files ==0:\n",
    "                break\n",
    "        print(\"loop ended for \" + keyword)\n",
    "\n",
    "# sample function\n",
    "get_it(\"streetarts\",20)"
   ]
  },
  {
   "cell_type": "markdown",
   "id": "ba7612c8",
   "metadata": {},
   "source": [
    "# 2) Whatsapp, Youtube"
   ]
  },
  {
   "cell_type": "code",
   "execution_count": 1,
   "id": "a95d6a2d",
   "metadata": {},
   "outputs": [],
   "source": [
    "import pywhatkit as kit"
   ]
  },
  {
   "cell_type": "markdown",
   "id": "b83d0e55",
   "metadata": {},
   "source": [
    "https://pypi.org/project/pywhatkit/"
   ]
  },
  {
   "cell_type": "code",
   "execution_count": 3,
   "id": "1fe142e3",
   "metadata": {},
   "outputs": [
    {
     "name": "stdout",
     "output_type": "stream",
     "text": [
      "In 43 seconds web.whatsapp.com will open and after 20 seconds message will be delivered\n"
     ]
    }
   ],
   "source": [
    "kit.sendwhatmsg(\"+6590025405\", \"Message\",14,23, tab_close=True)\n"
   ]
  },
  {
   "cell_type": "code",
   "execution_count": 13,
   "id": "dd56f355",
   "metadata": {},
   "outputs": [
    {
     "data": {
      "text/plain": [
       "'https://www.youtube.com/watch?v=JGwWNGJdvx8'"
      ]
     },
     "execution_count": 13,
     "metadata": {},
     "output_type": "execute_result"
    }
   ],
   "source": [
    "kit.playonyt('shape of you')"
   ]
  },
  {
   "cell_type": "markdown",
   "id": "5ef8f368",
   "metadata": {},
   "source": [
    "# 3) Censorship"
   ]
  },
  {
   "cell_type": "code",
   "execution_count": 4,
   "id": "9d402e20",
   "metadata": {},
   "outputs": [],
   "source": [
    "from better_profanity import profanity"
   ]
  },
  {
   "cell_type": "code",
   "execution_count": 5,
   "id": "72c3d8bf",
   "metadata": {},
   "outputs": [
    {
     "name": "stdout",
     "output_type": "stream",
     "text": [
      "coding is the real ****\n"
     ]
    }
   ],
   "source": [
    "text = \"coding is the real shit\"\n",
    "censored_text = profanity.censor(text)\n",
    "print(censored_text)"
   ]
  },
  {
   "cell_type": "markdown",
   "id": "8d2d4e1b",
   "metadata": {},
   "source": [
    "# 4) Screenshot"
   ]
  },
  {
   "cell_type": "code",
   "execution_count": 8,
   "id": "3a96f275",
   "metadata": {},
   "outputs": [],
   "source": [
    "import pyscreenshot"
   ]
  },
  {
   "cell_type": "code",
   "execution_count": 9,
   "id": "61e9bce6",
   "metadata": {},
   "outputs": [],
   "source": [
    "img = pyscreenshot.grab(bbox=(100,200,500,500))\n",
    "img.save('result.jpg')"
   ]
  },
  {
   "cell_type": "markdown",
   "id": "89950cee",
   "metadata": {},
   "source": [
    "# 5) Generate mp3 files"
   ]
  },
  {
   "cell_type": "code",
   "execution_count": 11,
   "id": "686956e6",
   "metadata": {},
   "outputs": [],
   "source": [
    "from gtts import gTTS"
   ]
  },
  {
   "cell_type": "code",
   "execution_count": 12,
   "id": "cccad88b",
   "metadata": {},
   "outputs": [],
   "source": [
    "data = gTTS('how are you')\n",
    "data.save('result.mp3')"
   ]
  },
  {
   "cell_type": "code",
   "execution_count": null,
   "id": "cb4baccb",
   "metadata": {},
   "outputs": [],
   "source": []
  }
 ],
 "metadata": {
  "kernelspec": {
   "display_name": "Python 3 (ipykernel)",
   "language": "python",
   "name": "python3"
  },
  "language_info": {
   "codemirror_mode": {
    "name": "ipython",
    "version": 3
   },
   "file_extension": ".py",
   "mimetype": "text/x-python",
   "name": "python",
   "nbconvert_exporter": "python",
   "pygments_lexer": "ipython3",
   "version": "3.9.6"
  }
 },
 "nbformat": 4,
 "nbformat_minor": 5
}
